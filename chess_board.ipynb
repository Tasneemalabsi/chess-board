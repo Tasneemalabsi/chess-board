{
 "cells": [
  {
   "cell_type": "code",
   "execution_count": 1,
   "metadata": {},
   "outputs": [],
   "source": [
    "import numpy as np\n",
    "import matplotlib.pyplot as plt"
   ]
  },
  {
   "cell_type": "code",
   "execution_count": 2,
   "metadata": {},
   "outputs": [
    {
     "name": "stdout",
     "output_type": "stream",
     "text": [
      "True\n"
     ]
    },
    {
     "data": {
      "image/png": "[encoded data removed]",
      "text/plain": [
       "<Figure size 432x288 with 1 Axes>"
      ]
     },
     "metadata": {
      "needs_background": "light"
     },
     "output_type": "display_data"
    }
   ],
   "source": [
    "class ChessBoard:\n",
    "    \"\"\"\n",
    "    this class creates a chess-board with white and black squares and blue and red squares that represent each side's queens\n",
    "    Properties:\n",
    "    grid: array -> representation of the chess squares\n",
    "    \n",
    "    \"\"\"\n",
    "    red = [1,.2,0]\n",
    "    blue = [0,1,1]\n",
    "    red_coordinates=[]\n",
    "    blue_coordinates=[]\n",
    "    def __init__(self):\n",
    "        self.grid = np.zeros((8,8,3))\n",
    "        for i in range(8):\n",
    "            for j in range(8):\n",
    "               if (not i %2 and not j %2 ) or (i%2 and j%2):\n",
    "                    self.grid[i][j] = [0.9,0.9,0.9]\n",
    "    def add_red(self, row, col):\n",
    "        \"\"\"\n",
    "        this method locates the red queen coordinates with red square\n",
    "        arguments:\n",
    "        row: integer\n",
    "        col: integer\n",
    "        \"\"\"\n",
    "        self.red\n",
    "        self.grid[row][col]=ChessBoard.red \n",
    "        ChessBoard.red_coordinates=[row,col]\n",
    "        self.render() \n",
    "    def add_blue(self, row, col):\n",
    "        \"\"\"\n",
    "        this method locates the blue queen coordinates with red square\n",
    "        arguments:\n",
    "        row: integer\n",
    "        col: integer\n",
    "        \"\"\"\n",
    "        self.grid[row][col]=ChessBoard.blue\n",
    "        ChessBoard.blue_coordinates=[row,col]\n",
    "        self.render()\n",
    "    def render(self):\n",
    "        \"\"\"\n",
    "        this method renders the chess grids  \n",
    "        \"\"\"\n",
    "        plt.imshow(self.grid)\n",
    "\n",
    "    def is_under_attack(self):\n",
    "        \"\"\"\n",
    "        this method returns true if the red queen was under attack by the other queen, it migth be horizontally, vertically or diagonally and returns false otherwise\n",
    "        returns: boolean\n",
    "        arguments: none\n",
    "        \"\"\"\n",
    "        if ChessBoard.red_coordinates[0]== ChessBoard.blue_coordinates[0] or ChessBoard.red_coordinates[1]== ChessBoard.blue_coordinates[1] or abs(ChessBoard.blue_coordinates[0]-ChessBoard.red_coordinates[0])==abs(ChessBoard.blue_coordinates[1]-ChessBoard.red_coordinates[1]):\n",
    "            return True\n",
    "        else:\n",
    "            return False\n",
    "\n",
    "board = ChessBoard()\n",
    "board.add_red(4,4)\n",
    "board.add_blue(5,3)\n",
    "print(board.is_under_attack())            "
   ]
  },
  {
   "cell_type": "code",
   "execution_count": 3,
   "metadata": {},
   "outputs": [
    {
     "data": {
      "image/png": "[encoded data removed]",
      "text/plain": [
       "<Figure size 432x288 with 1 Axes>"
      ]
     },
     "metadata": {
      "needs_background": "light"
     },
     "output_type": "display_data"
    }
   ],
   "source": [
    "def test_under_attack_same_row():\n",
    "    expected=True\n",
    "    board = ChessBoard()\n",
    "    board.add_red(5,4)\n",
    "    board.add_blue(5,3)\n",
    "    actual=board.is_under_attack()\n",
    "    assert actual == expected\n",
    "test_under_attack_same_row()"
   ]
  },
  {
   "cell_type": "code",
   "execution_count": 4,
   "metadata": {},
   "outputs": [
    {
     "data": {
      "image/png": "[encoded data removed]",
      "text/plain": [
       "<Figure size 432x288 with 1 Axes>"
      ]
     },
     "metadata": {
      "needs_background": "light"
     },
     "output_type": "display_data"
    }
   ],
   "source": [
    "def test_under_attack_same_column():\n",
    "    expected=True\n",
    "    board = ChessBoard()\n",
    "    board.add_red(5,4)\n",
    "    board.add_blue(4,4)\n",
    "    actual=board.is_under_attack()\n",
    "    assert actual == expected\n",
    "test_under_attack_same_column()"
   ]
  },
  {
   "cell_type": "code",
   "execution_count": 5,
   "metadata": {},
   "outputs": [
    {
     "data": {
      "image/png": "[encoded data removed]",
      "text/plain": [
       "<Figure size 432x288 with 1 Axes>"
      ]
     },
     "metadata": {
      "needs_background": "light"
     },
     "output_type": "display_data"
    }
   ],
   "source": [
    "def test_under_attack_same_diagonal():\n",
    "    expected=True\n",
    "    board = ChessBoard()\n",
    "    board.add_red(5,4)\n",
    "    board.add_blue(4,5)\n",
    "    actual=board.is_under_attack()\n",
    "    assert actual == expected\n",
    "test_under_attack_same_diagonal()"
   ]
  },
  {
   "cell_type": "code",
   "execution_count": 6,
   "metadata": {},
   "outputs": [
    {
     "data": {
      "image/png": "[encoded data removed]",
      "text/plain": [
       "<Figure size 432x288 with 1 Axes>"
      ]
     },
     "metadata": {
      "needs_background": "light"
     },
     "output_type": "display_data"
    }
   ],
   "source": [
    "def test_queen_not_under_attack():\n",
    "    expected=False\n",
    "    board = ChessBoard()\n",
    "    board.add_red(5,4)\n",
    "    board.add_blue(4,6)\n",
    "    actual=board.is_under_attack()\n",
    "    assert actual == expected\n",
    "test_queen_not_under_attack()"
   ]
  }
 ],
 "metadata": {
  "interpreter": {
   "hash": "49b0d9de56ce0cbccf929cc6ba855acbde85b6a05c70e67b0d331a0e75532f48"
  },
  "kernelspec": {
   "display_name": "Python 3.9.5 64-bit ('.venv': poetry)",
   "name": "python3"
  },
  "language_info": {
   "codemirror_mode": {
    "name": "ipython",
    "version": 3
   },
   "file_extension": ".py",
   "mimetype": "text/x-python",
   "name": "python",
   "nbconvert_exporter": "python",
   "pygments_lexer": "ipython3",
   "version": "3.9.5"
  },
  "orig_nbformat": 4
 },
 "nbformat": 4,
 "nbformat_minor": 2
}
