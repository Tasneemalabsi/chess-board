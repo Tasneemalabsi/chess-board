{
 "cells": [
  {
   "cell_type": "code",
   "execution_count": 1,
   "metadata": {},
   "outputs": [],
   "source": [
    "import numpy as np\n",
    "import matplotlib.pyplot as plt"
   ]
  },
  {
   "cell_type": "code",
   "execution_count": 44,
   "metadata": {},
   "outputs": [
    {
     "name": "stdout",
     "output_type": "stream",
     "text": [
      "True\n"
     ]
    },
    {
     "data": {
      "image/png": "[encoded data removed]",
      "text/plain": [
       "<Figure size 432x288 with 1 Axes>"
      ]
     },
     "metadata": {
      "needs_background": "light"
     },
     "output_type": "display_data"
    }
   ],
   "source": [
    "class ChessBoard:\n",
    "    red = [1,.2,0]\n",
    "    blue = [0,1,1]\n",
    "    red_coordinates=[]\n",
    "    blue_coordinates=[]\n",
    "    def __init__(self):\n",
    "        self.grid = np.zeros((8,8,3))\n",
    "        for i in range(8):\n",
    "            for j in range(8):\n",
    "               if (not i %2 and not j %2 ) or (i%2 and j%2):\n",
    "                    self.grid[i][j] = [0.9,0.9,0.9]\n",
    "    def add_red(self, row, col):\n",
    "        self.red\n",
    "        self.grid[row][col]=ChessBoard.red \n",
    "        ChessBoard.red_coordinates=[row,col]\n",
    "        self.render() \n",
    "    def add_blue(self, row, col):\n",
    "        self.grid[row][col]=ChessBoard.blue\n",
    "        ChessBoard.blue_coordinates=[row,col]\n",
    "        self.render()\n",
    "    def render(self):\n",
    "        plt.imshow(self.grid)\n",
    "\n",
    "    def is_under_attack(self):\n",
    "        if ChessBoard.red_coordinates[0]== ChessBoard.blue_coordinates[0] or ChessBoard.red_coordinates[1]== ChessBoard.blue_coordinates[1] or abs(ChessBoard.blue_coordinates[0]-ChessBoard.red_coordinates[0])==abs(ChessBoard.blue_coordinates[1]-ChessBoard.red_coordinates[1]):\n",
    "            return True\n",
    "        else:\n",
    "            return False\n",
    "\n",
    "\n",
    "\n",
    "        \n",
    "\n",
    "\n",
    "board = ChessBoard()\n",
    "board.add_red(4,4)\n",
    "board.add_blue(5,3)\n",
    "print(board.is_under_attack())"
   ]
  },
  {
   "cell_type": "code",
   "execution_count": 48,
   "metadata": {},
   "outputs": [
    {
     "data": {
      "image/png": "[encoded data removed]",
      "text/plain": [
       "<Figure size 432x288 with 1 Axes>"
      ]
     },
     "metadata": {
      "needs_background": "light"
     },
     "output_type": "display_data"
    }
   ],
   "source": [
    "def test_under_attack_same_row():\n",
    "    expected=True\n",
    "    board = ChessBoard()\n",
    "    board.add_red(5,4)\n",
    "    board.add_blue(5,3)\n",
    "    actual=board.is_under_attack()\n",
    "    assert actual == expected\n",
    "test_under_attack_same_row()    "
   ]
  },
  {
   "cell_type": "code",
   "execution_count": null,
   "metadata": {},
   "outputs": [],
   "source": [
    "def test_under_attack_same_row():\n",
    "    expected=True\n",
    "    board = ChessBoard()\n",
    "    board.add_red(5,4)\n",
    "    board.add_blue(5,3)\n",
    "    actual=board.is_under_attack()\n",
    "    assert actual == expected\n",
    "test_under_attack_same_row()"
   ]
  }
 ],
 "metadata": {
  "interpreter": {
   "hash": "49b0d9de56ce0cbccf929cc6ba855acbde85b6a05c70e67b0d331a0e75532f48"
  },
  "kernelspec": {
   "display_name": "Python 3.9.5 64-bit ('.venv': poetry)",
   "name": "python3"
  },
  "language_info": {
   "codemirror_mode": {
    "name": "ipython",
    "version": 3
   },
   "file_extension": ".py",
   "mimetype": "text/x-python",
   "name": "python",
   "nbconvert_exporter": "python",
   "pygments_lexer": "ipython3",
   "version": "3.9.5"
  },
  "orig_nbformat": 4
 },
 "nbformat": 4,
 "nbformat_minor": 2
}
